{
 "cells": [
  {
   "cell_type": "code",
   "execution_count": 1,
   "metadata": {
    "id": "UDAd4VRsQNNt"
   },
   "outputs": [
    {
     "name": "stdout",
     "output_type": "stream",
     "text": [
      "Requirement already satisfied: beautifulsoup4 in c:\\users\\sinta\\anaconda3\\lib\\site-packages (4.9.3)\n",
      "Requirement already satisfied: soupsieve>1.2; python_version >= \"3.0\" in c:\\users\\sinta\\anaconda3\\lib\\site-packages (from beautifulsoup4) (2.0.1)\n",
      "Note: you may need to restart the kernel to use updated packages.\n",
      "Requirement already satisfied: requests in c:\\users\\sinta\\anaconda3\\lib\\site-packages (2.24.0)\n",
      "Requirement already satisfied: idna<3,>=2.5 in c:\\users\\sinta\\anaconda3\\lib\\site-packages (from requests) (2.10)\n",
      "Requirement already satisfied: urllib3!=1.25.0,!=1.25.1,<1.26,>=1.21.1 in c:\\users\\sinta\\anaconda3\\lib\\site-packages (from requests) (1.25.11)\n",
      "Requirement already satisfied: certifi>=2017.4.17 in c:\\users\\sinta\\anaconda3\\lib\\site-packages (from requests) (2020.6.20)\n",
      "Requirement already satisfied: chardet<4,>=3.0.2 in c:\\users\\sinta\\anaconda3\\lib\\site-packages (from requests) (3.0.4)\n",
      "Note: you may need to restart the kernel to use updated packages.\n"
     ]
    }
   ],
   "source": [
    "%pip install beautifulsoup4\n",
    "%pip install requests"
   ]
  },
  {
   "cell_type": "code",
   "execution_count": 2,
   "metadata": {
    "id": "p66UnP9IPxcG"
   },
   "outputs": [],
   "source": [
    "# GLOBAL variable\n",
    "# seed_url = ''\n",
    "frontier_q = ['https://www.wongnai.com/','https://food.grab.com/th/en/','https://www.foodpanda.co.th/th/','https://lineman.line.me/','https://www.1112delivery.com/','https://www.7eleven.co.th/','https://www.robinhood.in.th/','https://www.siammakro.co.th/index.php','https://www.lotuss.com/th','https://www.tops.co.th/th/','https://cpfreshmartshop.com/']\n",
    "visited_q = []\n",
    "visited_host = set()\n",
    "# KU_DOMAIN = 'ku.ac.th'\n",
    "KEY_WORD = ('วัตถุดิบ','แคลอรี่','อาหาร','เมนู','ของกิน','กับข้าว','รสชาติ','อร่อย','เครื่องเคียง','ของว่าง','เครื่องดื่ม','ขนม')\n",
    "PAGE_COUNT = 0\n",
    "WEB_TYPE = ('html')\n",
    "FILE_TYPE = ('pdf', 'doc', 'xls', 'ppt', 'exe', 'jpg', 'mpg', 'zip', 'xlsx', 'png')\n",
    "headers = {\n",
    "    'User-Agent': 'Atipat Pankong',\n",
    "    'From': 'atipat.pa@ku.th'\n",
    "}\n",
    "debug=True"
   ]
  },
  {
   "cell_type": "code",
   "execution_count": 3,
   "metadata": {
    "colab": {
     "base_uri": "https://localhost:8080/"
    },
    "id": "Q1ehGloHbD5Q",
    "outputId": "157644cc-3278-4197-fad1-cf3634d7b5bb"
   },
   "outputs": [
    {
     "name": "stdout",
     "output_type": "stream",
     "text": [
      "0\n",
      "['https://www.wongnai.com/', 'https://food.grab.com/th/en/', 'https://www.foodpanda.co.th/th/', 'https://lineman.line.me/', 'https://www.1112delivery.com/', 'https://www.7eleven.co.th/', 'https://www.robinhood.in.th/', 'https://www.siammakro.co.th/index.php', 'https://www.lotuss.com/th', 'https://www.tops.co.th/th/', 'https://cpfreshmartshop.com/']\n"
     ]
    }
   ],
   "source": [
    "# check backup file\n",
    "try:\n",
    "    f = open('pending_queue.txt' ,'r')\n",
    "    s = f.read()\n",
    "    if(s):\n",
    "        url_q = s.splitlines()\n",
    "        PAGE_COUNT = int(url_q[0])\n",
    "        frontier_q = url_q[1:]\n",
    "    if(debug):\n",
    "        print(PAGE_COUNT)\n",
    "        print(frontier_q)\n",
    "except Exception as err:\n",
    "    print(err)\n",
    "    print('no backup')\n",
    "    PAGE_COUNT = 0\n",
    "    # frontier_q = [seed_url]"
   ]
  },
  {
   "cell_type": "code",
   "execution_count": 4,
   "metadata": {
    "id": "aBey0pirPzWw"
   },
   "outputs": [],
   "source": [
    "\n",
    "# print for debug function.\n",
    "def show_debug(url,error=False):\n",
    "    global PAGE_COUNT\n",
    "    if(not error):\n",
    "        PAGE_COUNT += 1\n",
    "        print('page: ',PAGE_COUNT)\n",
    "    print('site: ',url)\n",
    "    print('-'*50)"
   ]
  },
  {
   "cell_type": "code",
   "execution_count": 5,
   "metadata": {
    "id": "3L4ASe4GQE_a"
   },
   "outputs": [],
   "source": [
    "# FIFO queue\n",
    "def enqueue(links):\n",
    "    global frontier_q\n",
    "    for link in links:\n",
    "        if link not in frontier_q and link not in visited_q and not link.endswith(FILE_TYPE) and not 'mailto:' in link:\n",
    "            # print('in')\n",
    "            frontier_q.append(link)\n",
    "        # else : \n",
    "        #     print('out')\n",
    "\n",
    "def dequeue():\n",
    "    global frontier_q\n",
    "    current_url = frontier_q[0]\n",
    "    frontier_q = frontier_q[1:]\n",
    "    return current_url"
   ]
  },
  {
   "cell_type": "code",
   "execution_count": 6,
   "metadata": {
    "id": "Y6D4rjMUQKJy"
   },
   "outputs": [],
   "source": [
    "import requests\n",
    "from requests.exceptions import HTTPError\n",
    "from urllib.parse import urljoin, urlparse\n",
    "\n",
    "def get_page(url,require_content_type='text/html',join_set=True):\n",
    "    global headers\n",
    "    text = ''\n",
    "    try:\n",
    "        if(url.endswith(FILE_TYPE) or 'mailto:' in url): return text\n",
    "        response = requests.get(url, headers=headers, timeout=2)\n",
    "        # If the response was successful, no Exception will be raised\n",
    "        response.raise_for_status()\n",
    "        trap=0\n",
    "    except HTTPError as http_err:\n",
    "        print(f'HTTP error occurred: {http_err}')  # Python 3.6\n",
    "        if(debug):\n",
    "            show_debug(url,error=True)\n",
    "    except Exception as err:\n",
    "        print(f'Other error occurred: {err}')  # Python 3.6\n",
    "        if(debug):\n",
    "            show_debug(url,error=True)\n",
    "    else:\n",
    "        if(require_content_type in response.headers['Content-Type']):\n",
    "            # response.encoding = response.apparent_encoding\n",
    "            text = response.text\n",
    "            if(sum([1 for x in KEY_WORD if x in text])<3):\n",
    "                return \"\"\n",
    "            if 'facebook' in url or 'youtube' in url or 'google' in url or 'instagram' in url or 'twitter' in url or 'line' in url:\n",
    "                return \"\"\n",
    "            if(join_set):\n",
    "                parse = urlparse(url)\n",
    "                visited_host.add(parse.scheme + '://' + parse.netloc)\n",
    "        else:\n",
    "            print('\"' + response.headers['Content-Type'], '\" is wrong content type.')\n",
    "            if(debug):\n",
    "                show_debug(url,error=True)\n",
    "    return text.lower()"
   ]
  },
  {
   "cell_type": "code",
   "execution_count": 7,
   "metadata": {
    "id": "Ky7dI-taQcsi"
   },
   "outputs": [],
   "source": [
    "import os, codecs\n",
    "from bs4 import BeautifulSoup\n",
    "from urllib.parse import unquote\n",
    "\n",
    "def write_html(url,html_source):\n",
    "    global WEB_TYPE\n",
    "    filepath = ''\n",
    "    filename = 'dummy'\n",
    "    result = urlparse(url)\n",
    "    soup = BeautifulSoup(html_source, 'html.parser')\n",
    "    if(result.path.endswith(WEB_TYPE)):\n",
    "        filepath = 'foo/' + unquote(result.netloc + result.path[:result.path.rfind('/')])\n",
    "        filename = result.path[result.path.rfind('/')+1:]\n",
    "    else: \n",
    "        filepath = 'html/' + unquote(result.netloc + result.path)\n",
    "\n",
    "    os.makedirs(filepath, 0o755, exist_ok=True)\n",
    "    abs_path = filepath + '/' + filename\n",
    "    if(debug):\n",
    "        print('write on file directory : ',abs_path)\n",
    "    f = codecs.open(abs_path ,'w' ,'utf-8' )\n",
    "    f.write(soup.get_text())\n",
    "    f.close()"
   ]
  },
  {
   "cell_type": "code",
   "execution_count": 8,
   "metadata": {
    "id": "64F9iwGAQPXj"
   },
   "outputs": [],
   "source": [
    "# parser link from html.\n",
    "\n",
    "def absolute_link(url):\n",
    "    o = urlparse(url)\n",
    "    base_url = o.scheme + '://' + o.netloc\n",
    "    return  base_url + o.path\n",
    "\n",
    "def link_parser(url):\n",
    "    html_source = get_page(url)\n",
    "    if(html_source == ''): return []\n",
    "    write_html(url,html_source)\n",
    "    if(debug):\n",
    "        show_debug(url)\n",
    "    soup = BeautifulSoup(html_source, 'html.parser')\n",
    "    all_el = soup.find_all('a',href=True)\n",
    "    return [absolute_link(urljoin(url,el['href'].strip())) for el in all_el]"
   ]
  },
  {
   "cell_type": "code",
   "execution_count": 9,
   "metadata": {
    "colab": {
     "base_uri": "https://localhost:8080/"
    },
    "id": "qZhNchosQpQg",
    "outputId": "a7f57a27-e0c2-454b-d296-38ad55cef486"
   },
   "outputs": [
    {
     "name": "stdout",
     "output_type": "stream",
     "text": [
      "write on file directory :  html/www.wongnai.com//dummy\n",
      "page:  1\n",
      "site:  https://www.wongnai.com/\n",
      "--------------------------------------------------\n",
      "HTTP error occurred: 403 Client Error: Forbidden for url: https://food.grab.com/th/en/\n",
      "local variable 'trap' referenced before assignment\n",
      "write on file directory :  html/www.7eleven.co.th//dummy\n",
      "page:  2\n",
      "site:  https://www.7eleven.co.th/\n",
      "--------------------------------------------------\n",
      "write on file directory :  html/www.robinhood.in.th//dummy\n",
      "page:  3\n",
      "site:  https://www.robinhood.in.th/\n",
      "--------------------------------------------------\n",
      "write on file directory :  html/www.tops.co.th/th//dummy\n",
      "page:  4\n",
      "site:  https://www.tops.co.th/th/\n",
      "--------------------------------------------------\n",
      "write on file directory :  html/cpfreshmartshop.com//dummy\n",
      "page:  5\n",
      "site:  https://cpfreshmartshop.com/\n",
      "--------------------------------------------------\n",
      "write on file directory :  html/www.wongnai.com/restaurants/dummy\n",
      "page:  6\n",
      "site:  https://www.wongnai.com/restaurants\n",
      "--------------------------------------------------\n",
      "write on file directory :  html/www.wongnai.com/restaurants/copper/reviews/dummy\n",
      "page:  7\n",
      "site:  https://www.wongnai.com/restaurants/copper/reviews\n",
      "--------------------------------------------------\n",
      "write on file directory :  html/www.wongnai.com/restaurants/copper/dummy\n",
      "page:  8\n",
      "site:  https://www.wongnai.com/restaurants/copper\n",
      "--------------------------------------------------\n",
      "write on file directory :  html/www.wongnai.com/restaurants/chocolateville/reviews/dummy\n",
      "page:  9\n",
      "site:  https://www.wongnai.com/restaurants/chocolateville/reviews\n",
      "--------------------------------------------------\n",
      "write on file directory :  html/www.wongnai.com/restaurants/chocolateville/dummy\n",
      "page:  10\n",
      "site:  https://www.wongnai.com/restaurants/chocolateville\n",
      "--------------------------------------------------\n",
      "write on file directory :  html/www.wongnai.com/restaurants/leboeufthesteakfriesbistro/reviews/dummy\n",
      "page:  11\n",
      "site:  https://www.wongnai.com/restaurants/leboeufthesteakfriesbistro/reviews\n",
      "--------------------------------------------------\n",
      "write on file directory :  html/www.wongnai.com/restaurants/leboeufthesteakfriesbistro/dummy\n",
      "page:  12\n",
      "site:  https://www.wongnai.com/restaurants/leboeufthesteakfriesbistro\n",
      "--------------------------------------------------\n",
      "write on file directory :  html/www.wongnai.com/restaurants/5290th-ครัวดอกไม้ขาว-สาขาแรก/reviews/dummy\n",
      "page:  13\n",
      "site:  https://www.wongnai.com/restaurants/5290th-%e0%b8%84%e0%b8%a3%e0%b8%b1%e0%b8%a7%e0%b8%94%e0%b8%ad%e0%b8%81%e0%b9%84%e0%b8%a1%e0%b9%89%e0%b8%82%e0%b8%b2%e0%b8%a7-%e0%b8%aa%e0%b8%b2%e0%b8%82%e0%b8%b2%e0%b9%81%e0%b8%a3%e0%b8%81/reviews\n",
      "--------------------------------------------------\n",
      "write on file directory :  html/www.wongnai.com/restaurants/5290th-ครัวดอกไม้ขาว-สาขาแรก/dummy\n",
      "page:  14\n",
      "site:  https://www.wongnai.com/restaurants/5290th-%e0%b8%84%e0%b8%a3%e0%b8%b1%e0%b8%a7%e0%b8%94%e0%b8%ad%e0%b8%81%e0%b9%84%e0%b8%a1%e0%b9%89%e0%b8%82%e0%b8%b2%e0%b8%a7-%e0%b8%aa%e0%b8%b2%e0%b8%82%e0%b8%b2%e0%b9%81%e0%b8%a3%e0%b8%81\n",
      "--------------------------------------------------\n",
      "write on file directory :  html/www.wongnai.com/restaurants/ginzado-thonglor/reviews/dummy\n",
      "page:  15\n",
      "site:  https://www.wongnai.com/restaurants/ginzado-thonglor/reviews\n",
      "--------------------------------------------------\n",
      "write on file directory :  html/www.wongnai.com/restaurants/ginzado-thonglor/dummy\n",
      "page:  16\n",
      "site:  https://www.wongnai.com/restaurants/ginzado-thonglor\n",
      "--------------------------------------------------\n",
      "write on file directory :  html/www.wongnai.com/restaurants/sousaku/reviews/dummy\n",
      "page:  17\n",
      "site:  https://www.wongnai.com/restaurants/sousaku/reviews\n",
      "--------------------------------------------------\n",
      "write on file directory :  html/www.wongnai.com/restaurants/sousaku/dummy\n",
      "page:  18\n",
      "site:  https://www.wongnai.com/restaurants/sousaku\n",
      "--------------------------------------------------\n",
      "HTTP error occurred: 404 Client Error: Not Found for url: https://www.wongnai.com/good-vibes/09msofc4zkbfymqyjrhftroswxgsda\n",
      "local variable 'trap' referenced before assignment\n",
      "HTTP error occurred: 404 Client Error: Not Found for url: https://www.wongnai.com/good-vibes/09msnc4blbk1uub4pqll2eacw9y7gw\n",
      "local variable 'trap' referenced before assignment\n",
      "HTTP error occurred: 404 Client Error: Not Found for url: https://www.wongnai.com/good-vibes/09msnto7yoqdbmcu5bpdjkxotjure1\n",
      "local variable 'trap' referenced before assignment\n",
      "HTTP error occurred: 404 Client Error: Not Found for url: https://www.wongnai.com/good-vibes/09msntndgpadtmyj5swx3tmsdhxyag\n",
      "local variable 'trap' referenced before assignment\n",
      "HTTP error occurred: 404 Client Error: Not Found for url: https://www.wongnai.com/good-vibes/09msntn2hbfltk4unegboei9mnjcg6\n",
      "local variable 'trap' referenced before assignment\n",
      "HTTP error occurred: 404 Client Error: Not Found for url: https://www.wongnai.com/good-vibes/09msntlo4rnckmijifbjrfiqo1evg1\n",
      "local variable 'trap' referenced before assignment\n",
      "HTTP error occurred: 404 Client Error: Not Found for url: https://www.wongnai.com/good-vibes/09msntkww0tf1ofosh911pw4euge95\n",
      "local variable 'trap' referenced before assignment\n",
      "HTTP error occurred: 404 Client Error: Not Found for url: https://www.wongnai.com/good-vibes/09msntkmntvzwxm9acivjhdrbuyljh\n",
      "local variable 'trap' referenced before assignment\n",
      "HTTP error occurred: 404 Client Error: Not Found for url: https://www.wongnai.com/good-vibes/09msntjzkfu4t2frw4comwf6kucwuq\n",
      "local variable 'trap' referenced before assignment\n",
      "HTTP error occurred: 404 Client Error: Not Found for url: https://www.wongnai.com/good-vibes/09msmcy1a1apufednnw79p7qk0kx9l\n",
      "local variable 'trap' referenced before assignment\n",
      "HTTP error occurred: 404 Client Error: Not Found for url: https://www.wongnai.com/good-vibes/09msm4r86jrwlujndeq4lr43kfxcsf\n",
      "local variable 'trap' referenced before assignment\n",
      "HTTP error occurred: 404 Client Error: Not Found for url: https://www.wongnai.com/good-vibes/09msm4qmzhvg6bochyk6kahgvpqo8g\n",
      "local variable 'trap' referenced before assignment\n",
      "HTTP error occurred: 404 Client Error: Not Found for url: https://www.wongnai.com/good-vibes/09msm4odhi1xzbod9vif55fd2jvmc7\n",
      "local variable 'trap' referenced before assignment\n",
      "HTTP error occurred: 404 Client Error: Not Found for url: https://www.wongnai.com/good-vibes/09msm4o4h3ych74y9pfhjobxwnx5zl\n",
      "local variable 'trap' referenced before assignment\n",
      "HTTP error occurred: 404 Client Error: Not Found for url: https://www.wongnai.com/good-vibes/09msm4moqiqg3jiwlghniadsjwbkqu\n",
      "local variable 'trap' referenced before assignment\n",
      "HTTP error occurred: 404 Client Error: Not Found for url: https://www.wongnai.com/good-vibes/09msm4lxiywlcwhkhv0b4gxk4lyw9z\n",
      "local variable 'trap' referenced before assignment\n",
      "HTTP error occurred: 404 Client Error: Not Found for url: https://www.wongnai.com/good-vibes/09msm4l9io0pzfu9exuluanghaxdx7\n",
      "local variable 'trap' referenced before assignment\n",
      "HTTP error occurred: 404 Client Error: Not Found for url: https://www.wongnai.com/good-vibes/09msm4kkmffjklrdjn2u36xxuf71ei\n",
      "local variable 'trap' referenced before assignment\n",
      "HTTP error occurred: 404 Client Error: Not Found for url: https://www.wongnai.com/good-vibes/09msm4kfgzfc8ujmfnblc1bpli8q4y\n",
      "local variable 'trap' referenced before assignment\n",
      "write on file directory :  html/www.wongnai.com/nearby/businesses/dummy\n",
      "page:  19\n",
      "site:  https://www.wongnai.com/nearby/businesses\n",
      "--------------------------------------------------\n",
      "write on file directory :  html/www.wongnai.com/restaurants/maeklonghuaplamorfai/dummy\n",
      "page:  20\n",
      "site:  https://www.wongnai.com/restaurants/maeklonghuaplamorfai\n",
      "--------------------------------------------------\n",
      "write on file directory :  html/www.wongnai.com/restaurants/tonkatsuwako-ist/dummy\n",
      "page:  21\n",
      "site:  https://www.wongnai.com/restaurants/tonkatsuwako-ist\n",
      "--------------------------------------------------\n",
      "write on file directory :  html/www.wongnai.com/restaurants/zanotti/dummy\n",
      "page:  22\n",
      "site:  https://www.wongnai.com/restaurants/zanotti\n",
      "--------------------------------------------------\n",
      "HTTP error occurred: 404 Client Error: Not Found for url: https://www.wongnai.com/restaurants/3569nh-%E0%B9%80%E0%B8%88%E0%B9%8A%E0%B9%84%E0%B8%9D-%E0%B8%9B%E0%B8%A3%E0%B8%B0%E0%B8%95%E0%B8%B9%E0%B8%9C%E0%B8%B5\n",
      "local variable 'trap' referenced before assignment\n"
     ]
    },
    {
     "name": "stdout",
     "output_type": "stream",
     "text": [
      "write on file directory :  html/www.wongnai.com/restaurants/shangarila/dummy\n",
      "page:  23\n",
      "site:  https://www.wongnai.com/restaurants/shangarila\n",
      "--------------------------------------------------\n",
      "write on file directory :  html/www.wongnai.com/restaurants/157461dj-ครัวดอกไม้ขาว-siam-square-one/dummy\n",
      "page:  24\n",
      "site:  https://www.wongnai.com/restaurants/157461dj-%e0%b8%84%e0%b8%a3%e0%b8%b1%e0%b8%a7%e0%b8%94%e0%b8%ad%e0%b8%81%e0%b9%84%e0%b8%a1%e0%b9%89%e0%b8%82%e0%b8%b2%e0%b8%a7-siam-square-one\n",
      "--------------------------------------------------\n",
      "write on file directory :  html/www.wongnai.com/restaurants/trattoriapizzariailbolognese/dummy\n",
      "page:  25\n",
      "site:  https://www.wongnai.com/restaurants/trattoriapizzariailbolognese\n",
      "--------------------------------------------------\n",
      "write on file directory :  html/www.wongnai.com/restaurants/440122oz-ห้างหุ้นส่วนจำกัด-88มหาสาร-ห้างหุ้นส่วนจำกัด-88มหาสาร/dummy\n",
      "page:  26\n",
      "site:  https://www.wongnai.com/restaurants/440122oz-%e0%b8%ab%e0%b9%89%e0%b8%b2%e0%b8%87%e0%b8%ab%e0%b8%b8%e0%b9%89%e0%b8%99%e0%b8%aa%e0%b9%88%e0%b8%a7%e0%b8%99%e0%b8%88%e0%b8%b3%e0%b8%81%e0%b8%b1%e0%b8%94-88%e0%b8%a1%e0%b8%ab%e0%b8%b2%e0%b8%aa%e0%b8%b2%e0%b8%a3-%e0%b8%ab%e0%b9%89%e0%b8%b2%e0%b8%87%e0%b8%ab%e0%b8%b8%e0%b9%89%e0%b8%99%e0%b8%aa%e0%b9%88%e0%b8%a7%e0%b8%99%e0%b8%88%e0%b8%b3%e0%b8%81%e0%b8%b1%e0%b8%94-88%e0%b8%a1%e0%b8%ab%e0%b8%b2%e0%b8%aa%e0%b8%b2%e0%b8%a3\n",
      "--------------------------------------------------\n",
      "write on file directory :  html/www.wongnai.com/restaurants/isao/dummy\n",
      "page:  27\n",
      "site:  https://www.wongnai.com/restaurants/isao\n",
      "--------------------------------------------------\n",
      "write on file directory :  html/www.wongnai.com/restaurants/custardnakamura/dummy\n",
      "page:  28\n",
      "site:  https://www.wongnai.com/restaurants/custardnakamura\n",
      "--------------------------------------------------\n",
      "write on file directory :  html/www.wongnai.com/restaurants/330896xa-อำแดงไต้ฝุ่น-พระราม-3/dummy\n",
      "page:  29\n",
      "site:  https://www.wongnai.com/restaurants/330896xa-%e0%b8%ad%e0%b8%b3%e0%b9%81%e0%b8%94%e0%b8%87%e0%b9%84%e0%b8%95%e0%b9%89%e0%b8%9d%e0%b8%b8%e0%b9%88%e0%b8%99-%e0%b8%9e%e0%b8%a3%e0%b8%b0%e0%b8%a3%e0%b8%b2%e0%b8%a1-3\n",
      "--------------------------------------------------\n",
      "write on file directory :  html/www.wongnai.com/restaurants/chareonsang/dummy\n",
      "page:  30\n",
      "site:  https://www.wongnai.com/restaurants/chareonsang\n",
      "--------------------------------------------------\n"
     ]
    },
    {
     "ename": "KeyboardInterrupt",
     "evalue": "",
     "output_type": "error",
     "traceback": [
      "\u001b[1;31m---------------------------------------------------------------------------\u001b[0m",
      "\u001b[1;31mKeyboardInterrupt\u001b[0m                         Traceback (most recent call last)",
      "\u001b[1;32m<ipython-input-9-e7da313a3765>\u001b[0m in \u001b[0;36m<module>\u001b[1;34m\u001b[0m\n\u001b[0;32m     10\u001b[0m         \u001b[0mcurrent_url\u001b[0m \u001b[1;33m=\u001b[0m \u001b[0mdequeue\u001b[0m\u001b[1;33m(\u001b[0m\u001b[1;33m)\u001b[0m\u001b[1;33m\u001b[0m\u001b[1;33m\u001b[0m\u001b[0m\n\u001b[0;32m     11\u001b[0m         \u001b[0mvisited_q\u001b[0m\u001b[1;33m.\u001b[0m\u001b[0mappend\u001b[0m\u001b[1;33m(\u001b[0m\u001b[0mcurrent_url\u001b[0m\u001b[1;33m)\u001b[0m\u001b[1;33m\u001b[0m\u001b[1;33m\u001b[0m\u001b[0m\n\u001b[1;32m---> 12\u001b[1;33m         \u001b[0menqueue\u001b[0m\u001b[1;33m(\u001b[0m\u001b[0mlink_parser\u001b[0m\u001b[1;33m(\u001b[0m\u001b[0mcurrent_url\u001b[0m\u001b[1;33m)\u001b[0m\u001b[1;33m)\u001b[0m\u001b[1;33m\u001b[0m\u001b[1;33m\u001b[0m\u001b[0m\n\u001b[0m\u001b[0;32m     13\u001b[0m     \u001b[1;32mexcept\u001b[0m \u001b[0mException\u001b[0m \u001b[1;32mas\u001b[0m \u001b[0merr\u001b[0m\u001b[1;33m:\u001b[0m\u001b[1;33m\u001b[0m\u001b[1;33m\u001b[0m\u001b[0m\n\u001b[0;32m     14\u001b[0m         \u001b[0mprint\u001b[0m\u001b[1;33m(\u001b[0m\u001b[0merr\u001b[0m\u001b[1;33m)\u001b[0m\u001b[1;33m\u001b[0m\u001b[1;33m\u001b[0m\u001b[0m\n",
      "\u001b[1;32m<ipython-input-5-c785f590a770>\u001b[0m in \u001b[0;36menqueue\u001b[1;34m(links)\u001b[0m\n\u001b[0;32m      3\u001b[0m     \u001b[1;32mglobal\u001b[0m \u001b[0mfrontier_q\u001b[0m\u001b[1;33m\u001b[0m\u001b[1;33m\u001b[0m\u001b[0m\n\u001b[0;32m      4\u001b[0m     \u001b[1;32mfor\u001b[0m \u001b[0mlink\u001b[0m \u001b[1;32min\u001b[0m \u001b[0mlinks\u001b[0m\u001b[1;33m:\u001b[0m\u001b[1;33m\u001b[0m\u001b[1;33m\u001b[0m\u001b[0m\n\u001b[1;32m----> 5\u001b[1;33m         \u001b[1;32mif\u001b[0m \u001b[0mlink\u001b[0m \u001b[1;32mnot\u001b[0m \u001b[1;32min\u001b[0m \u001b[0mfrontier_q\u001b[0m \u001b[1;32mand\u001b[0m \u001b[0mlink\u001b[0m \u001b[1;32mnot\u001b[0m \u001b[1;32min\u001b[0m \u001b[0mvisited_q\u001b[0m \u001b[1;32mand\u001b[0m \u001b[1;32mnot\u001b[0m \u001b[0mlink\u001b[0m\u001b[1;33m.\u001b[0m\u001b[0mendswith\u001b[0m\u001b[1;33m(\u001b[0m\u001b[0mFILE_TYPE\u001b[0m\u001b[1;33m)\u001b[0m \u001b[1;32mand\u001b[0m \u001b[1;32mnot\u001b[0m \u001b[1;34m'mailto:'\u001b[0m \u001b[1;32min\u001b[0m \u001b[0mlink\u001b[0m\u001b[1;33m:\u001b[0m\u001b[1;33m\u001b[0m\u001b[1;33m\u001b[0m\u001b[0m\n\u001b[0m\u001b[0;32m      6\u001b[0m             \u001b[1;31m# print('in')\u001b[0m\u001b[1;33m\u001b[0m\u001b[1;33m\u001b[0m\u001b[1;33m\u001b[0m\u001b[0m\n\u001b[0;32m      7\u001b[0m             \u001b[0mfrontier_q\u001b[0m\u001b[1;33m.\u001b[0m\u001b[0mappend\u001b[0m\u001b[1;33m(\u001b[0m\u001b[0mlink\u001b[0m\u001b[1;33m)\u001b[0m\u001b[1;33m\u001b[0m\u001b[1;33m\u001b[0m\u001b[0m\n",
      "\u001b[1;31mKeyboardInterrupt\u001b[0m: "
     ]
    }
   ],
   "source": [
    "# write html > 10000 page.\n",
    "\n",
    "while PAGE_COUNT <= 20000 and frontier_q:\n",
    "    # backup url that was pending in queue.\n",
    "    try:\n",
    "        if PAGE_COUNT%100 == 0 :\n",
    "            f = codecs.open('pending_queue.txt' ,'w' ,'utf-8' )\n",
    "            f.write(str(PAGE_COUNT) + '\\n'+ '\\n'.join(frontier_q))\n",
    "            f.close()\n",
    "        current_url = dequeue()\n",
    "        visited_q.append(current_url)\n",
    "        enqueue(link_parser(current_url))\n",
    "    except Exception as err:\n",
    "        print(err)\n",
    "        pass"
   ]
  },
  {
   "cell_type": "code",
   "execution_count": null,
   "metadata": {
    "id": "x0BARjWMZQVt"
   },
   "outputs": [],
   "source": [
    "# write all host in file after run 10000 page successfully.\n",
    "if(debug):\n",
    "  print(visited_host)\n",
    "  f = codecs.open('list_host.txt' ,'w' ,'utf-8' )\n",
    "  f.write('\\n'.join([host for host in visited_host]))\n",
    "  f.close()"
   ]
  },
  {
   "cell_type": "code",
   "execution_count": null,
   "metadata": {
    "id": "gMSzmCybZQVu"
   },
   "outputs": [],
   "source": [
    "# find robots.txt in all host and write list of host that have robots.txt or sidemap.\n",
    "# robots_host = []\n",
    "# sitemap_host = []\n",
    "# for host in visited_host:\n",
    "#     text = get_page(host + '/robots.txt', 'text/plain',False)\n",
    "#     if(text):\n",
    "#         robots_host.append(urlparse(host).netloc)\n",
    "#         if('sitemap:' in text):\n",
    "#             sitemap_host.append(urlparse(host).netloc)\n",
    "\n",
    "# f = codecs.open( 'list_robots.txt' , 'w', 'utf-8') \n",
    "# f.write('\\n'.join(robots_host))\n",
    "# f.close()\n",
    "\n",
    "# f = codecs.open('list_sitemap.txt', 'w' , 'utf-8')\n",
    "# f.write('\\n'.join(sitemap_host))\n",
    "# f.close()"
   ]
  }
 ],
 "metadata": {
  "colab": {
   "name": "web_crawler.ipynb",
   "provenance": []
  },
  "kernelspec": {
   "display_name": "Python 3",
   "language": "python",
   "name": "python3"
  },
  "language_info": {
   "codemirror_mode": {
    "name": "ipython",
    "version": 3
   },
   "file_extension": ".py",
   "mimetype": "text/x-python",
   "name": "python",
   "nbconvert_exporter": "python",
   "pygments_lexer": "ipython3",
   "version": "3.8.5"
  }
 },
 "nbformat": 4,
 "nbformat_minor": 1
}
