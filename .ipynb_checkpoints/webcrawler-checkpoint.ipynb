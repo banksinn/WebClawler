{
 "cells": [
  {
   "cell_type": "code",
   "execution_count": null,
   "metadata": {
    "id": "UDAd4VRsQNNt"
   },
   "outputs": [],
   "source": [
    "%pip install beautifulsoup4\n",
    "%pip install requests"
   ]
  },
  {
   "cell_type": "code",
   "execution_count": null,
   "metadata": {
    "id": "p66UnP9IPxcG"
   },
   "outputs": [],
   "source": [
    "# GLOBAL variable\n",
    "# seed_url = ''\n",
    "# first 5000 website from 'https://www.wongnai.com/', 'https://food.trueid.net/', 'https://www.ryoiireview.com/'\n",
    "# after 5000 website from 'https://www.7eleven.co.th/','https://sou-dai.com/','https://numsups.com/'\n",
    "frontier_q = ['https://www.wongnai.com/', 'https://food.trueid.net/', 'https://www.ryoiireview.com/','https://www.7eleven.co.th/','https://sou-dai.com/','https://numsups.com/']\n",
    "visited_q = []\n",
    "visited_host = set()\n",
    "# KU_DOMAIN = 'ku.ac.th'\n",
    "KEY_WORD = ('วัตถุดิบ','แคลอรี่','อาหาร','เมนู','ของกิน','กับข้าว','รสชาติ','อร่อย','เครื่องเคียง','ของว่าง','เครื่องดื่ม','ขนม')\n",
    "PAGE_COUNT = 0\n",
    "WEB_TYPE = ('html')\n",
    "FILE_TYPE = ('pdf', 'doc', 'xls', 'ppt', 'exe', 'jpg', 'mpg', 'zip', 'xlsx', 'png')\n",
    "headers = {\n",
    "    'User-Agent': 'Atipat Pankong',\n",
    "    'From': 'atipat.pa@ku.th'\n",
    "}\n",
    "debug=True"
   ]
  },
  {
   "cell_type": "code",
   "execution_count": null,
   "metadata": {
    "colab": {
     "base_uri": "https://localhost:8080/"
    },
    "id": "Q1ehGloHbD5Q",
    "outputId": "157644cc-3278-4197-fad1-cf3634d7b5bb"
   },
   "outputs": [],
   "source": [
    "# check backup file\n",
    "try:\n",
    "    f = open('pending_queue.txt' ,'r')\n",
    "    s = f.read()\n",
    "    if(s):\n",
    "        url_q = s.splitlines()\n",
    "        PAGE_COUNT = int(url_q[0])\n",
    "        frontier_q = url_q[1:]\n",
    "    if(debug):\n",
    "        print(PAGE_COUNT)\n",
    "        print(frontier_q)\n",
    "except Exception as err:\n",
    "    print(err)\n",
    "    print('no backup')\n",
    "    PAGE_COUNT = 0\n",
    "    # frontier_q = [seed_url]"
   ]
  },
  {
   "cell_type": "code",
   "execution_count": null,
   "metadata": {},
   "outputs": [],
   "source": [
    "frontier_q"
   ]
  },
  {
   "cell_type": "code",
   "execution_count": null,
   "metadata": {
    "id": "aBey0pirPzWw"
   },
   "outputs": [],
   "source": [
    "\n",
    "# print for debug function.\n",
    "def show_debug(url,error=False):\n",
    "    global PAGE_COUNT\n",
    "    if(not error):\n",
    "        PAGE_COUNT += 1\n",
    "        print('page: ',PAGE_COUNT)\n",
    "#     print('site: ',url)\n",
    "#     print('-'*50)"
   ]
  },
  {
   "cell_type": "code",
   "execution_count": null,
   "metadata": {
    "id": "3L4ASe4GQE_a"
   },
   "outputs": [],
   "source": [
    "# FIFO queue\n",
    "def enqueue(links):\n",
    "    global frontier_q\n",
    "    for link in links:\n",
    "        if link not in frontier_q and link not in visited_q and not link.endswith(FILE_TYPE) and not 'mailto:' in link:\n",
    "            # print('in')\n",
    "            frontier_q.append(link)\n",
    "        # else : \n",
    "        #     print('out')\n",
    "\n",
    "def dequeue():\n",
    "    global frontier_q\n",
    "    current_url = frontier_q[0]\n",
    "    frontier_q = frontier_q[1:]\n",
    "    return current_url"
   ]
  },
  {
   "cell_type": "code",
   "execution_count": null,
   "metadata": {
    "id": "Y6D4rjMUQKJy"
   },
   "outputs": [],
   "source": [
    "import requests\n",
    "from requests.exceptions import HTTPError\n",
    "from urllib.parse import urljoin, urlparse\n",
    "\n",
    "def get_page(url,require_content_type='text/html',join_set=True):\n",
    "    global headers\n",
    "    text = ''\n",
    "    try:\n",
    "        if(url.endswith(FILE_TYPE) or 'mailto:' in url): return text\n",
    "        response = requests.get(url, headers=headers, timeout=2)\n",
    "        # If the response was successful, no Exception will be raised\n",
    "        response.raise_for_status()\n",
    "    except HTTPError as http_err:\n",
    "        print(f'HTTP error occurred: {http_err}')  # Python 3.6\n",
    "        if(debug):\n",
    "            show_debug(url,error=True)\n",
    "    except Exception as err:\n",
    "        print(f'Other error occurred: {err}')  # Python 3.6\n",
    "        if(debug):\n",
    "            show_debug(url,error=True)\n",
    "    else:\n",
    "        if(require_content_type in response.headers['Content-Type']):\n",
    "            # response.encoding = response.apparent_encoding\n",
    "            text = response.text\n",
    "            if(sum([1 for x in KEY_WORD if x in text])<3):\n",
    "                return \"\"\n",
    "            if 'facebook' in url or 'youtube' in url or 'google' in url or 'instagram' in url or 'twitter' in url or 'line' in url:\n",
    "                return \"\"\n",
    "            if(join_set):\n",
    "                parse = urlparse(url)\n",
    "                visited_host.add(parse.scheme + '://' + parse.netloc)\n",
    "        else:\n",
    "            print('\"' + response.headers['Content-Type'], '\" is wrong content type.')\n",
    "            if(debug):\n",
    "                show_debug(url,error=True)\n",
    "    return text.lower()"
   ]
  },
  {
   "cell_type": "code",
   "execution_count": null,
   "metadata": {
    "id": "Ky7dI-taQcsi"
   },
   "outputs": [],
   "source": [
    "import os, codecs\n",
    "from bs4 import BeautifulSoup\n",
    "from urllib.parse import unquote\n",
    "\n",
    "def write_html(url,html_source):\n",
    "    global WEB_TYPE\n",
    "    filepath = ''\n",
    "    filename = 'dummy'\n",
    "    result = urlparse(url)\n",
    "    soup = BeautifulSoup(html_source, 'html.parser')\n",
    "    if(result.path.endswith(WEB_TYPE)):\n",
    "        filepath = 'foodBank/' + unquote(result.netloc + result.path[:result.path.rfind('/')])\n",
    "        filename = result.path[result.path.rfind('/')+1:]\n",
    "    else: \n",
    "        filepath = 'foodBank/' + unquote(result.netloc + result.path)\n",
    "\n",
    "    os.makedirs(filepath, 0o755, exist_ok=True)\n",
    "    abs_path = filepath + '/' + filename\n",
    "    if(debug):\n",
    "        print('write on file directory : ',abs_path)\n",
    "    f = codecs.open(abs_path ,'w' ,'utf-8' )\n",
    "    f.write(soup.get_text())\n",
    "    f.close()"
   ]
  },
  {
   "cell_type": "code",
   "execution_count": null,
   "metadata": {
    "id": "64F9iwGAQPXj"
   },
   "outputs": [],
   "source": [
    "# parser link from html.\n",
    "\n",
    "def absolute_link(url):\n",
    "    o = urlparse(url)\n",
    "    base_url = o.scheme + '://' + o.netloc\n",
    "    return  base_url + o.path\n",
    "\n",
    "def link_parser(url):\n",
    "    html_source = get_page(url)\n",
    "    if(html_source == ''): return []\n",
    "    write_html(url,html_source)\n",
    "    if(debug):\n",
    "        show_debug(url)\n",
    "    soup = BeautifulSoup(html_source, 'html.parser')\n",
    "    all_el = soup.find_all('a',href=True)\n",
    "    return [absolute_link(urljoin(url,el['href'].strip())) for el in all_el]"
   ]
  },
  {
   "cell_type": "code",
   "execution_count": null,
   "metadata": {
    "colab": {
     "base_uri": "https://localhost:8080/"
    },
    "id": "qZhNchosQpQg",
    "outputId": "a7f57a27-e0c2-454b-d296-38ad55cef486"
   },
   "outputs": [],
   "source": [
    "# write html > 10000 page.\n",
    "\n",
    "while PAGE_COUNT <= 10000 and frontier_q:\n",
    "    # backup url that was pending in queue.\n",
    "    try:\n",
    "        if PAGE_COUNT%100 == 0 :\n",
    "            f = codecs.open('pending_queue.txt' ,'w' ,'utf-8' )\n",
    "            f.write(str(PAGE_COUNT) + '\\n'+ '\\n'.join(frontier_q))\n",
    "            f.close()\n",
    "        current_url = dequeue()\n",
    "        visited_q.append(current_url)\n",
    "        enqueue(link_parser(current_url))\n",
    "    except Exception as err:\n",
    "        print(err)\n",
    "        pass"
   ]
  },
  {
   "cell_type": "code",
   "execution_count": null,
   "metadata": {
    "id": "x0BARjWMZQVt"
   },
   "outputs": [],
   "source": [
    "# write all host in file after run 10000 page successfully.\n",
    "if(debug):\n",
    "  print(visited_host)\n",
    "  f = codecs.open('list_host.txt' ,'w' ,'utf-8' )\n",
    "  f.write('\\n'.join([host for host in visited_host]))\n",
    "  f.close()"
   ]
  },
  {
   "cell_type": "code",
   "execution_count": null,
   "metadata": {
    "id": "gMSzmCybZQVu"
   },
   "outputs": [],
   "source": [
    "# find robots.txt in all host and write list of host that have robots.txt or sidemap.\n",
    "# robots_host = []\n",
    "# sitemap_host = []\n",
    "# for host in visited_host:\n",
    "#     text = get_page(host + '/robots.txt', 'text/plain',False)\n",
    "#     if(text):\n",
    "#         robots_host.append(urlparse(host).netloc)\n",
    "#         if('sitemap:' in text):\n",
    "#             sitemap_host.append(urlparse(host).netloc)\n",
    "\n",
    "# f = codecs.open( 'list_robots.txt' , 'w', 'utf-8') \n",
    "# f.write('\\n'.join(robots_host))\n",
    "# f.close()\n",
    "\n",
    "# f = codecs.open('list_sitemap.txt', 'w' , 'utf-8')\n",
    "# f.write('\\n'.join(sitemap_host))\n",
    "# f.close()"
   ]
  }
 ],
 "metadata": {
  "colab": {
   "name": "web_crawler.ipynb",
   "provenance": []
  },
  "kernelspec": {
   "display_name": "Python 3",
   "language": "python",
   "name": "python3"
  },
  "language_info": {
   "codemirror_mode": {
    "name": "ipython",
    "version": 3
   },
   "file_extension": ".py",
   "mimetype": "text/x-python",
   "name": "python",
   "nbconvert_exporter": "python",
   "pygments_lexer": "ipython3",
   "version": "3.8.5"
  }
 },
 "nbformat": 4,
 "nbformat_minor": 1
}
